{
 "cells": [
  {
   "cell_type": "code",
   "execution_count": 70,
   "id": "310e59c9",
   "metadata": {},
   "outputs": [],
   "source": [
    "import pandas as pd\n",
    "import numpy as np\n",
    "import re"
   ]
  },
  {
   "cell_type": "markdown",
   "id": "5513bddd",
   "metadata": {},
   "source": [
    "# Analisando o CSV original"
   ]
  },
  {
   "cell_type": "code",
   "execution_count": 2,
   "id": "39cc9b6d",
   "metadata": {},
   "outputs": [
    {
     "name": "stdout",
     "output_type": "stream",
     "text": [
      "Index(['id', 'title', 'vote_average', 'vote_count', 'status', 'release_date',\n",
      "       'revenue', 'runtime', 'adult', 'backdrop_path', 'budget', 'homepage',\n",
      "       'imdb_id', 'original_language', 'original_title', 'overview',\n",
      "       'popularity', 'poster_path', 'tagline', 'genres',\n",
      "       'production_companies', 'production_countries', 'spoken_languages',\n",
      "       'keywords'],\n",
      "      dtype='object')\n"
     ]
    }
   ],
   "source": [
    "# Crie um dataframe a partir do csv\n",
    "df = pd.read_csv('TMDB_movie_dataset_v11.csv')\n",
    "\n",
    "# Exiba o nome das colunas\n",
    "print(df.columns)"
   ]
  },
  {
   "cell_type": "code",
   "execution_count": 20,
   "id": "36faebb4",
   "metadata": {},
   "outputs": [
    {
     "name": "stdout",
     "output_type": "stream",
     "text": [
      "             title  vote_average                                       genres  \\\n",
      "0        Inception         8.364           Action, Science Fiction, Adventure   \n",
      "1     Interstellar         8.417            Adventure, Drama, Science Fiction   \n",
      "2  The Dark Knight         8.512               Drama, Action, Crime, Thriller   \n",
      "3           Avatar         7.573  Action, Adventure, Fantasy, Science Fiction   \n",
      "4     The Avengers         7.710           Science Fiction, Action, Adventure   \n",
      "\n",
      "                                            keywords  \\\n",
      "0  rescue, mission, dream, airplane, paris, franc...   \n",
      "1  rescue, future, spacecraft, race against time,...   \n",
      "2  joker, sadism, chaos, secret identity, crime f...   \n",
      "3  future, society, culture clash, space travel, ...   \n",
      "4  new york city, superhero, shield, based on com...   \n",
      "\n",
      "                                         homepage  \n",
      "0     https://www.warnerbros.com/movies/inception  \n",
      "1               http://www.interstellarmovie.net/  \n",
      "2  https://www.warnerbros.com/movies/dark-knight/  \n",
      "3            https://www.avatar.com/movies/avatar  \n",
      "4      https://www.marvel.com/movies/the-avengers  \n"
     ]
    }
   ],
   "source": [
    "# Exiba os 5 primeiros registros, mas apenas as colunas 'title', 'vote_average', 'genres' e 'keywords'\n",
    "print(df[['title', 'vote_average', 'genres', 'keywords', 'homepage']].head())"
   ]
  },
  {
   "cell_type": "code",
   "execution_count": 4,
   "id": "3f74b2f1",
   "metadata": {},
   "outputs": [
    {
     "name": "stdout",
     "output_type": "stream",
     "text": [
      "['Action', 'Adventure', 'Animation', 'Comedy', 'Crime', 'Documentary', 'Drama', 'Family', 'Fantasy', 'History', 'Horror', 'Music', 'Mystery', 'Romance', 'Science Fiction', 'TV Movie', 'Thriller', 'War', 'Western']\n"
     ]
    }
   ],
   "source": [
    "# Crie uma lista com todos os gêneros únicos presentes na coluna 'genres'\n",
    "# Primeiro, remova valores nulos\n",
    "genres_series = df['genres'].dropna()\n",
    "\n",
    "# Separe os gêneros por vírgula, remova espaços extras e crie um set para garantir unicidade\n",
    "unique_genres = set()\n",
    "for genres in genres_series:\n",
    "    for genre in genres.split(','):\n",
    "        unique_genres.add(genre.strip())\n",
    "\n",
    "# Converta para lista (opcionalmente ordenada)\n",
    "unique_genres = sorted(unique_genres)\n",
    "print(unique_genres)"
   ]
  },
  {
   "cell_type": "code",
   "execution_count": 5,
   "id": "2d79d1b1",
   "metadata": {},
   "outputs": [
    {
     "name": "stdout",
     "output_type": "stream",
     "text": [
      "<class 'pandas.core.frame.DataFrame'>\n",
      "RangeIndex: 1225978 entries, 0 to 1225977\n",
      "Data columns (total 24 columns):\n",
      " #   Column                Non-Null Count    Dtype  \n",
      "---  ------                --------------    -----  \n",
      " 0   id                    1225978 non-null  int64  \n",
      " 1   title                 1225965 non-null  object \n",
      " 2   vote_average          1225978 non-null  float64\n",
      " 3   vote_count            1225978 non-null  int64  \n",
      " 4   status                1225978 non-null  object \n",
      " 5   release_date          1000054 non-null  object \n",
      " 6   revenue               1225978 non-null  int64  \n",
      " 7   runtime               1225978 non-null  int64  \n",
      " 8   adult                 1225978 non-null  bool   \n",
      " 9   backdrop_path         318225 non-null   object \n",
      " 10  budget                1225978 non-null  int64  \n",
      " 11  homepage              128554 non-null   object \n",
      " 12  imdb_id               623349 non-null   object \n",
      " 13  original_language     1225978 non-null  object \n",
      " 14  original_title        1225965 non-null  object \n",
      " 15  overview              965759 non-null   object \n",
      " 16  popularity            1225978 non-null  float64\n",
      " 17  poster_path           822097 non-null   object \n",
      " 18  tagline               172044 non-null   object \n",
      " 19  genres                717227 non-null   object \n",
      " 20  production_companies  542437 non-null   object \n",
      " 21  production_countries  663858 non-null   object \n",
      " 22  spoken_languages      685579 non-null   object \n",
      " 23  keywords              321034 non-null   object \n",
      "dtypes: bool(1), float64(2), int64(5), object(16)\n",
      "memory usage: 216.3+ MB\n"
     ]
    }
   ],
   "source": [
    "df.info()"
   ]
  },
  {
   "cell_type": "code",
   "execution_count": 6,
   "id": "b9eb9da7",
   "metadata": {},
   "outputs": [
    {
     "name": "stdout",
     "output_type": "stream",
     "text": [
      "count    1.225978e+06\n",
      "mean     1.761494e+00\n",
      "std      2.966842e+00\n",
      "min      0.000000e+00\n",
      "25%      0.000000e+00\n",
      "50%      0.000000e+00\n",
      "75%      4.000000e+00\n",
      "max      1.000000e+01\n",
      "Name: vote_average, dtype: float64\n"
     ]
    }
   ],
   "source": [
    "# Ver dados estatísticos da coluna 'vote_average'\n",
    "print(df['vote_average'].describe())"
   ]
  },
  {
   "cell_type": "code",
   "execution_count": 7,
   "id": "dfaf1ee2",
   "metadata": {},
   "outputs": [
    {
     "name": "stdout",
     "output_type": "stream",
     "text": [
      "10.0\n",
      "             id                                              title  \\\n",
      "29279    495686  What's New Scooby-Doo? Vol. 4: Merry Scary Hol...   \n",
      "29392    392622     What's New, Scooby-Doo? Vol. 7: Ready to Scare   \n",
      "31879    609737  The 1st 13th Annual Fancy Anvil Awards Show Pr...   \n",
      "39321    571278                    Scooby-Doo's Original Mysteries   \n",
      "44311    638443  Scooby-Doo: Agence toutou risques, vol. 1 : Le...   \n",
      "...         ...                                                ...   \n",
      "1192503  818888                                   Story of the Sea   \n",
      "1199779  758948                                              DHONG   \n",
      "1209947  756937                                   Call of the Wild   \n",
      "1216000  789516                                      Out on a Limb   \n",
      "1218064  786684                                 Lethal Attractions   \n",
      "\n",
      "         vote_average  vote_count    status release_date  revenue  runtime  \\\n",
      "29279            10.0          46  Released   2007-02-20        0       85   \n",
      "29392            10.0          46  Released   2006-05-17        0        0   \n",
      "31879            10.0          40  Released   2002-03-23        0      120   \n",
      "39321            10.0          29  Released   2000-03-14        0      110   \n",
      "44311            10.0          24  Released   2007-04-12        0        0   \n",
      "...               ...         ...       ...          ...      ...      ...   \n",
      "1192503          10.0           0  Released   1973-03-26        0       40   \n",
      "1199779          10.0           0  Released   2020-10-29        0        7   \n",
      "1209947          10.0           0  Released   1992-01-01        0       89   \n",
      "1216000          10.0           0  Released   2019-11-26        0       21   \n",
      "1218064          10.0           0  Released   2014-08-01        0       46   \n",
      "\n",
      "         adult                     backdrop_path  ...  \\\n",
      "29279    False                               NaN  ...   \n",
      "29392    False                               NaN  ...   \n",
      "31879    False                               NaN  ...   \n",
      "39321    False                               NaN  ...   \n",
      "44311    False                               NaN  ...   \n",
      "...        ...                               ...  ...   \n",
      "1192503  False                               NaN  ...   \n",
      "1199779  False                               NaN  ...   \n",
      "1209947   True  /hQcVEBOLSnqNFVtR9lvrJZMVVea.jpg  ...   \n",
      "1216000  False  /5SnwLnYuc8c5VUgWYZjPtF9oivj.jpg  ...   \n",
      "1218064  False                               NaN  ...   \n",
      "\n",
      "                                            original_title  \\\n",
      "29279    What's New Scooby-Doo? Vol. 4: Merry Scary Hol...   \n",
      "29392       What's New, Scooby-Doo? Vol. 7: Ready to Scare   \n",
      "31879    The 1st 13th Annual Fancy Anvil Awards Show Pr...   \n",
      "39321                      Scooby-Doo's Original Mysteries   \n",
      "44311    Scooby-Doo: Agence toutou risques, vol. 1 : Le...   \n",
      "...                                                    ...   \n",
      "1192503                                     Saga af sjónum   \n",
      "1199779                                              DHONG   \n",
      "1209947                                   Call of the Wild   \n",
      "1216000                                      Out on a Limb   \n",
      "1218064                                 Lethal Attractions   \n",
      "\n",
      "                                                  overview popularity  \\\n",
      "29279    A perfect ski vacation heads downhill in Winte...      2.092   \n",
      "29392    Scooby-Doo and the mystery inc gang battle fie...      2.678   \n",
      "31879    Cartoon Network holds an awards show awarding ...      4.015   \n",
      "39321    See how your favorite snack-munching canine su...      1.937   \n",
      "44311                                                  NaN      2.076   \n",
      "...                                                    ...        ...   \n",
      "1192503                                                NaN      0.664   \n",
      "1199779  A man murders a Dhongi Baba, steals a briefcas...      0.600   \n",
      "1209947  Filmed in the wilderness of French Canada, thi...      0.600   \n",
      "1216000  In this film, two people and two worlds meet. ...      0.600   \n",
      "1218064  In the African wilderness, there's no such thi...      0.600   \n",
      "\n",
      "                              poster_path  \\\n",
      "29279    /rOnw5fJiXrA9plD5kY7uhsvafIX.jpg   \n",
      "29392    /hsWjtBhyFBINumzFqEtNl8FCgFQ.jpg   \n",
      "31879                                 NaN   \n",
      "39321                                 NaN   \n",
      "44311    /dLlViSQv4uQDLC58l0auKI6iACm.jpg   \n",
      "...                                   ...   \n",
      "1192503  /lCN7uQeUVrvKLl9aRFgpjDsKEzA.jpg   \n",
      "1199779  /n82vOcfr7jmN28KmySl9dRyZhKb.jpg   \n",
      "1209947  /s9BokWS60gDVJysI5z8uJtK6psX.jpg   \n",
      "1216000  /6mYTxCLuAMGCwyFTTuIpcMXHmMI.jpg   \n",
      "1218064  /2wgxdUEQ8QN4ETsBCkH2kfImh1t.jpg   \n",
      "\n",
      "                                      tagline  \\\n",
      "29279                                     NaN   \n",
      "29392                                     NaN   \n",
      "31879                          Live In Stereo   \n",
      "39321                                     NaN   \n",
      "44311                                     NaN   \n",
      "...                                       ...   \n",
      "1192503                                   NaN   \n",
      "1199779                                   NaN   \n",
      "1209947  Starring 11 hot French Canadian men!   \n",
      "1216000                                   NaN   \n",
      "1218064                                   NaN   \n",
      "\n",
      "                                                    genres  \\\n",
      "29279    Animation, Comedy, Science Fiction, Action, Fa...   \n",
      "29392                   Animation, Comedy, Family, Mystery   \n",
      "31879                            Animation, Family, Comedy   \n",
      "39321                                 Animation, Adventure   \n",
      "44311                            Animation, Family, Comedy   \n",
      "...                                                    ...   \n",
      "1192503                                                NaN   \n",
      "1199779                                                NaN   \n",
      "1209947                                                NaN   \n",
      "1216000                                        Documentary   \n",
      "1218064                                        Documentary   \n",
      "\n",
      "                                      production_companies  \\\n",
      "29279    Warner Bros. Pictures, Hanna-Barbera Productio...   \n",
      "29392    Hanna-Barbera Productions, Cartoon Network Stu...   \n",
      "31879    Hanna-Barbera Productions, Cartoon Network Stu...   \n",
      "39321                            Hanna-Barbera Productions   \n",
      "44311                            Hanna-Barbera Productions   \n",
      "...                                                    ...   \n",
      "1192503                                                NaN   \n",
      "1199779                                                NaN   \n",
      "1209947                          Kristen Bjorn Productions   \n",
      "1216000                                          Arc'teryx   \n",
      "1218064                                                NaN   \n",
      "\n",
      "             production_countries spoken_languages  \\\n",
      "29279    United States of America          English   \n",
      "29392    United States of America          English   \n",
      "31879    United States of America          English   \n",
      "39321    United States of America          English   \n",
      "44311    United States of America           French   \n",
      "...                           ...              ...   \n",
      "1192503                       NaN        Icelandic   \n",
      "1199779                       NaN              NaN   \n",
      "1209947                    Canada           French   \n",
      "1216000                    Canada          English   \n",
      "1218064                       NaN              NaN   \n",
      "\n",
      "                                                  keywords  \n",
      "29279                                              cartoon  \n",
      "29392                                                  NaN  \n",
      "31879                 cartoon, awards show, talking animal  \n",
      "39321                                                  NaN  \n",
      "44311                                                  NaN  \n",
      "...                                                    ...  \n",
      "1192503                                                NaN  \n",
      "1199779                                                NaN  \n",
      "1209947  sex outdoors, male bonding, gay pornography, f...  \n",
      "1216000  mountaineering, handicap, free climbing, escalade  \n",
      "1218064                                                NaN  \n",
      "\n",
      "[26268 rows x 24 columns]\n"
     ]
    }
   ],
   "source": [
    "# maior nota média\n",
    "print(df['vote_average'].max())\n",
    "# mostrar dados que possuem esta nota máxima\n",
    "print(df[df['vote_average'] == df['vote_average'].max()])"
   ]
  },
  {
   "cell_type": "code",
   "execution_count": 8,
   "id": "d1137cc8",
   "metadata": {},
   "outputs": [
    {
     "name": "stdout",
     "output_type": "stream",
     "text": [
      "0.0\n"
     ]
    }
   ],
   "source": [
    "# menor nota média\n",
    "print(df['vote_average'].min())"
   ]
  },
  {
   "cell_type": "markdown",
   "id": "d6060514",
   "metadata": {},
   "source": [
    "# Limpando os dados"
   ]
  },
  {
   "cell_type": "code",
   "execution_count": 9,
   "id": "37178dab",
   "metadata": {},
   "outputs": [],
   "source": [
    "# Remova todos os registros onde a coluna adult é igual a True\n",
    "df_movies = df[df['adult'] != True]"
   ]
  },
  {
   "cell_type": "code",
   "execution_count": null,
   "id": "9bbafa66",
   "metadata": {},
   "outputs": [],
   "source": [
    "# Remova os registros onde title é igual a null\n",
    "df_movies = df_movies[df_movies['title'].notnull()]"
   ]
  },
  {
   "cell_type": "code",
   "execution_count": null,
   "id": "8081a42f",
   "metadata": {},
   "outputs": [
    {
     "name": "stdout",
     "output_type": "stream",
     "text": [
      "12\n"
     ]
    }
   ],
   "source": [
    "# conte quantos registros possuem title igual a null\n",
    "print(df_movies['title'].isnull().sum())\n"
   ]
  },
  {
   "cell_type": "code",
   "execution_count": 71,
   "id": "caa4ac7a",
   "metadata": {},
   "outputs": [
    {
     "name": "stdout",
     "output_type": "stream",
     "text": [
      "             title  vote_average  vote_count release_date    imdb_id  \\\n",
      "0        Inception         8.364       34495   2010-07-15  tt1375666   \n",
      "1     Interstellar         8.417       32571   2014-11-05  tt0816692   \n",
      "2  The Dark Knight         8.512       30619   2008-07-16  tt0468569   \n",
      "3           Avatar         7.573       29815   2009-12-15  tt0499549   \n",
      "4     The Avengers         7.710       29166   2012-04-25  tt0848228   \n",
      "\n",
      "                                        genres  \\\n",
      "0           Action, Science Fiction, Adventure   \n",
      "1            Adventure, Drama, Science Fiction   \n",
      "2               Drama, Action, Crime, Thriller   \n",
      "3  Action, Adventure, Fantasy, Science Fiction   \n",
      "4           Science Fiction, Action, Adventure   \n",
      "\n",
      "                                            keywords  \n",
      "0  rescue, mission, dream, airplane, paris, franc...  \n",
      "1  rescue, future, spacecraft, race against time,...  \n",
      "2  joker, sadism, chaos, secret identity, crime f...  \n",
      "3  future, society, culture clash, space travel, ...  \n",
      "4  new york city, superhero, shield, based on com...  \n"
     ]
    }
   ],
   "source": [
    "# Criando um dataframe apenas com as colunas de interesse\n",
    "df_movies = df[['title', 'vote_average', 'vote_count', 'release_date', 'imdb_id', 'genres', 'keywords']]\n",
    "# Exibindo os 5 primeiros registros\n",
    "print(df_movies.head(5))"
   ]
  },
  {
   "cell_type": "code",
   "execution_count": null,
   "id": "eee3c2f4",
   "metadata": {},
   "outputs": [],
   "source": [
    "# apague os registrs onde title é nulo\n",
    "df_movies = df_movies.dropna(subset=['title'])\n",
    "\n",
    "# apague os registros onde genre é nulo\n",
    "df_movies = df_movies.dropna(subset=['genres'])"
   ]
  },
  {
   "cell_type": "code",
   "execution_count": 60,
   "id": "565378b6",
   "metadata": {},
   "outputs": [
    {
     "name": "stdout",
     "output_type": "stream",
     "text": [
      "424225\n"
     ]
    }
   ],
   "source": [
    "# Quantos registros de vote_count no df abaixo do valor 1?\n",
    "print(df_movies[df_movies['vote_count'] < 1].shape[0]) "
   ]
  },
  {
   "cell_type": "code",
   "execution_count": 61,
   "id": "e0f12ef1",
   "metadata": {},
   "outputs": [],
   "source": [
    "# Reordene as linhas por ordem alfabetica da coluna 'title'\n",
    "df_movies = df_movies.sort_values(by='title', ascending=True)"
   ]
  },
  {
   "cell_type": "code",
   "execution_count": 62,
   "id": "8b8238e0",
   "metadata": {},
   "outputs": [
    {
     "name": "stdout",
     "output_type": "stream",
     "text": [
      "<class 'pandas.core.frame.DataFrame'>\n",
      "Index: 717222 entries, 354506 to 767951\n",
      "Data columns (total 7 columns):\n",
      " #   Column        Non-Null Count   Dtype  \n",
      "---  ------        --------------   -----  \n",
      " 0   title         717222 non-null  object \n",
      " 1   vote_average  717222 non-null  float64\n",
      " 2   vote_count    717222 non-null  int64  \n",
      " 3   release_date  670107 non-null  object \n",
      " 4   imdb_id       461783 non-null  object \n",
      " 5   genres        717222 non-null  object \n",
      " 6   keywords      260204 non-null  object \n",
      "dtypes: float64(1), int64(1), object(5)\n",
      "memory usage: 43.8+ MB\n",
      "None\n"
     ]
    }
   ],
   "source": [
    "# info do dataframe\n",
    "print(df_movies.info())"
   ]
  },
  {
   "cell_type": "code",
   "execution_count": 64,
   "id": "3eda49cf",
   "metadata": {},
   "outputs": [
    {
     "name": "stdout",
     "output_type": "stream",
     "text": [
      "0\n"
     ]
    }
   ],
   "source": [
    "# Alguns registros tem title sem nenhum texto, ou seja, title é igual a ''\n",
    "# Quantos registros possuem title igual a ''\n",
    "print(df_movies[df_movies['title'] == ''].shape[0])\n"
   ]
  },
  {
   "cell_type": "code",
   "execution_count": 65,
   "id": "194db6f2",
   "metadata": {
    "vscode": {
     "languageId": "powershell"
    }
   },
   "outputs": [],
   "source": [
    "df_movies = df_movies[df_movies['imdb_id'].notnull()]"
   ]
  },
  {
   "cell_type": "code",
   "execution_count": null,
   "id": "fb3b5535",
   "metadata": {},
   "outputs": [],
   "source": [
    "\n",
    "# Remova caracteres diferentes de letras, números ou espaços e deixe em minúsculo nos títulos\n",
    "df_movies['title'] = df_movies['title'].apply(lambda x: re.sub(r'[^a-zA-Z0-9 ]', '', x).lower() if isinstance(x, str) else x)"
   ]
  },
  {
   "cell_type": "code",
   "execution_count": 67,
   "id": "923ad973",
   "metadata": {},
   "outputs": [
    {
     "name": "stdout",
     "output_type": "stream",
     "text": [
      "Action: 34703\n",
      "Adventure: 18830\n",
      "Animation: 31581\n",
      "Comedy: 109716\n",
      "Crime: 28386\n",
      "Documentary: 86407\n",
      "Drama: 177928\n",
      "Family: 20384\n",
      "Fantasy: 16644\n",
      "History: 12316\n",
      "Horror: 37639\n",
      "Music: 21346\n",
      "Mystery: 14879\n",
      "Romance: 42411\n",
      "Science Fiction: 16238\n",
      "TV Movie: 20397\n",
      "Thriller: 38232\n",
      "War: 8607\n",
      "Western: 8123\n"
     ]
    }
   ],
   "source": [
    "genres = ['Action', 'Adventure', 'Animation', 'Comedy', 'Crime', 'Documentary', 'Drama', 'Family', 'Fantasy', 'History', 'Horror', 'Music', 'Mystery', 'Romance', 'Science Fiction', 'TV Movie', 'Thriller', 'War', 'Western']\n",
    "# Quantos filmes existem por gênero?\n",
    "for genre in genres:\n",
    "    # Crie uma máscara para filtrar os filmes que contêm o gênero atual\n",
    "    mask = df_movies['genres'].str.contains(genre, na=False)\n",
    "    # Conte o número de filmes que atendem à condição\n",
    "    count = df_movies[mask].shape[0]\n",
    "    print(f'{genre}: {count}')\n"
   ]
  },
  {
   "cell_type": "code",
   "execution_count": 68,
   "id": "7132563c",
   "metadata": {},
   "outputs": [],
   "source": [
    "# Corrigindo alguns tipos de dados\n",
    "# Converta a coluna 'release_date' para o tipo datetime\n",
    "df_movies['release_date'] = pd.to_datetime(df_movies['release_date'], errors='coerce')\n",
    "# Convertendo genres e keywords de string para array\n",
    "df_movies['genres'] = df_movies['genres'].fillna('').apply(lambda x: x.split(',') if x else [])\n",
    "df_movies['keywords'] = df_movies['keywords'].fillna('').apply(lambda x: x.split(',') if x else [])\n",
    "# Preenchendo valores ausentes\n",
    "df_movies['imdb_id'] = df_movies['imdb_id'].fillna('')\n"
   ]
  },
  {
   "cell_type": "code",
   "execution_count": 72,
   "id": "39447819",
   "metadata": {},
   "outputs": [
    {
     "data": {
      "text/html": [
       "<div>\n",
       "<style scoped>\n",
       "    .dataframe tbody tr th:only-of-type {\n",
       "        vertical-align: middle;\n",
       "    }\n",
       "\n",
       "    .dataframe tbody tr th {\n",
       "        vertical-align: top;\n",
       "    }\n",
       "\n",
       "    .dataframe thead th {\n",
       "        text-align: right;\n",
       "    }\n",
       "</style>\n",
       "<table border=\"1\" class=\"dataframe\">\n",
       "  <thead>\n",
       "    <tr style=\"text-align: right;\">\n",
       "      <th></th>\n",
       "      <th>title</th>\n",
       "      <th>vote_average</th>\n",
       "      <th>vote_count</th>\n",
       "      <th>release_date</th>\n",
       "      <th>imdb_id</th>\n",
       "      <th>genres</th>\n",
       "      <th>keywords</th>\n",
       "    </tr>\n",
       "  </thead>\n",
       "  <tbody>\n",
       "    <tr>\n",
       "      <th>0</th>\n",
       "      <td>Inception</td>\n",
       "      <td>8.364</td>\n",
       "      <td>34495</td>\n",
       "      <td>2010-07-15</td>\n",
       "      <td>tt1375666</td>\n",
       "      <td>Action, Science Fiction, Adventure</td>\n",
       "      <td>rescue, mission, dream, airplane, paris, franc...</td>\n",
       "    </tr>\n",
       "    <tr>\n",
       "      <th>1</th>\n",
       "      <td>Interstellar</td>\n",
       "      <td>8.417</td>\n",
       "      <td>32571</td>\n",
       "      <td>2014-11-05</td>\n",
       "      <td>tt0816692</td>\n",
       "      <td>Adventure, Drama, Science Fiction</td>\n",
       "      <td>rescue, future, spacecraft, race against time,...</td>\n",
       "    </tr>\n",
       "    <tr>\n",
       "      <th>2</th>\n",
       "      <td>The Dark Knight</td>\n",
       "      <td>8.512</td>\n",
       "      <td>30619</td>\n",
       "      <td>2008-07-16</td>\n",
       "      <td>tt0468569</td>\n",
       "      <td>Drama, Action, Crime, Thriller</td>\n",
       "      <td>joker, sadism, chaos, secret identity, crime f...</td>\n",
       "    </tr>\n",
       "    <tr>\n",
       "      <th>3</th>\n",
       "      <td>Avatar</td>\n",
       "      <td>7.573</td>\n",
       "      <td>29815</td>\n",
       "      <td>2009-12-15</td>\n",
       "      <td>tt0499549</td>\n",
       "      <td>Action, Adventure, Fantasy, Science Fiction</td>\n",
       "      <td>future, society, culture clash, space travel, ...</td>\n",
       "    </tr>\n",
       "    <tr>\n",
       "      <th>4</th>\n",
       "      <td>The Avengers</td>\n",
       "      <td>7.710</td>\n",
       "      <td>29166</td>\n",
       "      <td>2012-04-25</td>\n",
       "      <td>tt0848228</td>\n",
       "      <td>Science Fiction, Action, Adventure</td>\n",
       "      <td>new york city, superhero, shield, based on com...</td>\n",
       "    </tr>\n",
       "    <tr>\n",
       "      <th>5</th>\n",
       "      <td>Deadpool</td>\n",
       "      <td>7.606</td>\n",
       "      <td>28894</td>\n",
       "      <td>2016-02-09</td>\n",
       "      <td>tt1431045</td>\n",
       "      <td>Action, Adventure, Comedy</td>\n",
       "      <td>superhero, anti hero, mercenary, based on comi...</td>\n",
       "    </tr>\n",
       "    <tr>\n",
       "      <th>6</th>\n",
       "      <td>Avengers: Infinity War</td>\n",
       "      <td>8.255</td>\n",
       "      <td>27713</td>\n",
       "      <td>2018-04-25</td>\n",
       "      <td>tt4154756</td>\n",
       "      <td>Adventure, Action, Science Fiction</td>\n",
       "      <td>sacrifice, magic, superhero, based on comic, s...</td>\n",
       "    </tr>\n",
       "    <tr>\n",
       "      <th>7</th>\n",
       "      <td>Fight Club</td>\n",
       "      <td>8.438</td>\n",
       "      <td>27238</td>\n",
       "      <td>1999-10-15</td>\n",
       "      <td>tt0137523</td>\n",
       "      <td>Drama</td>\n",
       "      <td>dual identity, rage and hate, based on novel o...</td>\n",
       "    </tr>\n",
       "    <tr>\n",
       "      <th>8</th>\n",
       "      <td>Guardians of the Galaxy</td>\n",
       "      <td>7.906</td>\n",
       "      <td>26638</td>\n",
       "      <td>2014-07-30</td>\n",
       "      <td>tt2015381</td>\n",
       "      <td>Action, Science Fiction, Adventure</td>\n",
       "      <td>spacecraft, based on comic, space, orphan, adv...</td>\n",
       "    </tr>\n",
       "    <tr>\n",
       "      <th>9</th>\n",
       "      <td>Pulp Fiction</td>\n",
       "      <td>8.488</td>\n",
       "      <td>25893</td>\n",
       "      <td>1994-09-10</td>\n",
       "      <td>tt0110912</td>\n",
       "      <td>Thriller, Crime</td>\n",
       "      <td>drug dealer, boxer, massage, stolen money, bri...</td>\n",
       "    </tr>\n",
       "    <tr>\n",
       "      <th>10</th>\n",
       "      <td>Forrest Gump</td>\n",
       "      <td>8.477</td>\n",
       "      <td>25409</td>\n",
       "      <td>1994-06-23</td>\n",
       "      <td>tt0109830</td>\n",
       "      <td>Comedy, Drama, Romance</td>\n",
       "      <td>vietnam war, vietnam veteran, mentally disable...</td>\n",
       "    </tr>\n",
       "    <tr>\n",
       "      <th>11</th>\n",
       "      <td>Harry Potter and the Philosopher's Stone</td>\n",
       "      <td>7.916</td>\n",
       "      <td>25379</td>\n",
       "      <td>2001-11-16</td>\n",
       "      <td>tt0241527</td>\n",
       "      <td>Adventure, Fantasy</td>\n",
       "      <td>witch, school friend, friendship, london, engl...</td>\n",
       "    </tr>\n",
       "    <tr>\n",
       "      <th>12</th>\n",
       "      <td>Iron Man</td>\n",
       "      <td>7.640</td>\n",
       "      <td>24874</td>\n",
       "      <td>2008-04-30</td>\n",
       "      <td>tt0371746</td>\n",
       "      <td>Action, Science Fiction, Adventure</td>\n",
       "      <td>middle east, superhero, arms dealer, malibu, b...</td>\n",
       "    </tr>\n",
       "    <tr>\n",
       "      <th>13</th>\n",
       "      <td>Django Unchained</td>\n",
       "      <td>8.171</td>\n",
       "      <td>24672</td>\n",
       "      <td>2012-12-25</td>\n",
       "      <td>tt1853728</td>\n",
       "      <td>Drama, Western</td>\n",
       "      <td>rescue, friendship, bounty hunter, texas, slav...</td>\n",
       "    </tr>\n",
       "    <tr>\n",
       "      <th>14</th>\n",
       "      <td>The Shawshank Redemption</td>\n",
       "      <td>8.702</td>\n",
       "      <td>24649</td>\n",
       "      <td>1994-09-23</td>\n",
       "      <td>tt0111161</td>\n",
       "      <td>Drama, Crime</td>\n",
       "      <td>prison, friendship, police brutality, corrupti...</td>\n",
       "    </tr>\n",
       "  </tbody>\n",
       "</table>\n",
       "</div>"
      ],
      "text/plain": [
       "                                       title  vote_average  vote_count  \\\n",
       "0                                  Inception         8.364       34495   \n",
       "1                               Interstellar         8.417       32571   \n",
       "2                            The Dark Knight         8.512       30619   \n",
       "3                                     Avatar         7.573       29815   \n",
       "4                               The Avengers         7.710       29166   \n",
       "5                                   Deadpool         7.606       28894   \n",
       "6                     Avengers: Infinity War         8.255       27713   \n",
       "7                                 Fight Club         8.438       27238   \n",
       "8                    Guardians of the Galaxy         7.906       26638   \n",
       "9                               Pulp Fiction         8.488       25893   \n",
       "10                              Forrest Gump         8.477       25409   \n",
       "11  Harry Potter and the Philosopher's Stone         7.916       25379   \n",
       "12                                  Iron Man         7.640       24874   \n",
       "13                          Django Unchained         8.171       24672   \n",
       "14                  The Shawshank Redemption         8.702       24649   \n",
       "\n",
       "   release_date    imdb_id                                       genres  \\\n",
       "0    2010-07-15  tt1375666           Action, Science Fiction, Adventure   \n",
       "1    2014-11-05  tt0816692            Adventure, Drama, Science Fiction   \n",
       "2    2008-07-16  tt0468569               Drama, Action, Crime, Thriller   \n",
       "3    2009-12-15  tt0499549  Action, Adventure, Fantasy, Science Fiction   \n",
       "4    2012-04-25  tt0848228           Science Fiction, Action, Adventure   \n",
       "5    2016-02-09  tt1431045                    Action, Adventure, Comedy   \n",
       "6    2018-04-25  tt4154756           Adventure, Action, Science Fiction   \n",
       "7    1999-10-15  tt0137523                                        Drama   \n",
       "8    2014-07-30  tt2015381           Action, Science Fiction, Adventure   \n",
       "9    1994-09-10  tt0110912                              Thriller, Crime   \n",
       "10   1994-06-23  tt0109830                       Comedy, Drama, Romance   \n",
       "11   2001-11-16  tt0241527                           Adventure, Fantasy   \n",
       "12   2008-04-30  tt0371746           Action, Science Fiction, Adventure   \n",
       "13   2012-12-25  tt1853728                               Drama, Western   \n",
       "14   1994-09-23  tt0111161                                 Drama, Crime   \n",
       "\n",
       "                                             keywords  \n",
       "0   rescue, mission, dream, airplane, paris, franc...  \n",
       "1   rescue, future, spacecraft, race against time,...  \n",
       "2   joker, sadism, chaos, secret identity, crime f...  \n",
       "3   future, society, culture clash, space travel, ...  \n",
       "4   new york city, superhero, shield, based on com...  \n",
       "5   superhero, anti hero, mercenary, based on comi...  \n",
       "6   sacrifice, magic, superhero, based on comic, s...  \n",
       "7   dual identity, rage and hate, based on novel o...  \n",
       "8   spacecraft, based on comic, space, orphan, adv...  \n",
       "9   drug dealer, boxer, massage, stolen money, bri...  \n",
       "10  vietnam war, vietnam veteran, mentally disable...  \n",
       "11  witch, school friend, friendship, london, engl...  \n",
       "12  middle east, superhero, arms dealer, malibu, b...  \n",
       "13  rescue, friendship, bounty hunter, texas, slav...  \n",
       "14  prison, friendship, police brutality, corrupti...  "
      ]
     },
     "execution_count": 72,
     "metadata": {},
     "output_type": "execute_result"
    }
   ],
   "source": [
    "df_movies.head(15)"
   ]
  },
  {
   "cell_type": "markdown",
   "id": "af034d66",
   "metadata": {},
   "source": [
    "# Dataset suficientemente limpo para esta primeira versão"
   ]
  },
  {
   "cell_type": "code",
   "execution_count": 69,
   "id": "10f04623",
   "metadata": {},
   "outputs": [],
   "source": [
    "# Salvar o dataframe em um novo arquivo CSV\n",
    "df_movies.to_csv('movies-V1.0.csv', index=False)"
   ]
  },
  {
   "cell_type": "code",
   "execution_count": null,
   "id": "5eda1299",
   "metadata": {},
   "outputs": [],
   "source": []
  }
 ],
 "metadata": {
  "kernelspec": {
   "display_name": "Python 3",
   "language": "python",
   "name": "python3"
  },
  "language_info": {
   "codemirror_mode": {
    "name": "ipython",
    "version": 3
   },
   "file_extension": ".py",
   "mimetype": "text/x-python",
   "name": "python",
   "nbconvert_exporter": "python",
   "pygments_lexer": "ipython3",
   "version": "3.13.3"
  }
 },
 "nbformat": 4,
 "nbformat_minor": 5
}
